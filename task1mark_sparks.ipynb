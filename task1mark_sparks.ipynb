{
  "nbformat": 4,
  "nbformat_minor": 0,
  "metadata": {
    "colab": {
      "name": "task1mark--sparks.ipynb",
      "provenance": [],
      "authorship_tag": "ABX9TyNvAq4d49EjPSSIYDkgjK3H",
      "include_colab_link": true
    },
    "kernelspec": {
      "name": "python3",
      "display_name": "Python 3"
    }
  },
  "cells": [
    {
      "cell_type": "markdown",
      "metadata": {
        "id": "view-in-github",
        "colab_type": "text"
      },
      "source": [
        "<a href=\"https://colab.research.google.com/github/Salax30/LinearRegression/blob/main/task1mark_sparks.ipynb\" target=\"_parent\"><img src=\"https://colab.research.google.com/assets/colab-badge.svg\" alt=\"Open In Colab\"/></a>"
      ]
    },
    {
      "cell_type": "markdown",
      "metadata": {
        "id": "B7BsdnA0eVua"
      },
      "source": [
        "**Importing** **Libraries**"
      ]
    },
    {
      "cell_type": "code",
      "metadata": {
        "id": "7Ma2dXeKVpEd"
      },
      "source": [
        "from sklearn.linear_model import LinearRegression\n",
        "import pandas as pd\n",
        "import matplotlib.pyplot as plt  \n",
        "%matplotlib inline"
      ],
      "execution_count": 2,
      "outputs": []
    },
    {
      "cell_type": "markdown",
      "metadata": {
        "id": "6SboR7enee5P"
      },
      "source": [
        "**Loading** **Data**"
      ]
    },
    {
      "cell_type": "code",
      "metadata": {
        "id": "j4PgrwutWJQQ"
      },
      "source": [
        "data=pd.read_csv('task1.csv')\n"
      ],
      "execution_count": 5,
      "outputs": []
    },
    {
      "cell_type": "markdown",
      "metadata": {
        "id": "hgYONOquemcO"
      },
      "source": [
        "**Splitting into Input and Targets and then Plotting it**"
      ]
    },
    {
      "cell_type": "code",
      "metadata": {
        "id": "waS2WZj2YKgZ",
        "outputId": "136e320e-4b3a-4869-9053-2bf35faea4e8",
        "colab": {
          "base_uri": "https://localhost:8080/",
          "height": 297
        }
      },
      "source": [
        "X = data.iloc[:, :-1].values  \n",
        "Y = data.iloc[:, 1].values \n",
        "data.plot(x='Hours',y='Scores', style='*')"
      ],
      "execution_count": 6,
      "outputs": [
        {
          "output_type": "execute_result",
          "data": {
            "text/plain": [
              "<matplotlib.axes._subplots.AxesSubplot at 0x7f6875994c50>"
            ]
          },
          "metadata": {
            "tags": []
          },
          "execution_count": 6
        },
        {
          "output_type": "display_data",
          "data": {
            "image/png": "[encoded data removed]",
            "text/plain": [
              "<Figure size 432x288 with 1 Axes>"
            ]
          },
          "metadata": {
            "tags": [],
            "needs_background": "light"
          }
        }
      ]
    },
    {
      "cell_type": "markdown",
      "metadata": {
        "id": "aeG5jPvnfned"
      },
      "source": [
        "**Training using a train-test Split**"
      ]
    },
    {
      "cell_type": "code",
      "metadata": {
        "id": "zaqa5dSxfEKL"
      },
      "source": [
        "from sklearn.model_selection import train_test_split  \n",
        "X_train, X_test, y_train, y_test = train_test_split(X, Y, test_size=0.2, random_state=0) "
      ],
      "execution_count": 7,
      "outputs": []
    },
    {
      "cell_type": "code",
      "metadata": {
        "id": "38ZI2ys4fHh2",
        "outputId": "da3774a2-11d7-4961-c8f1-4548dfe366c2",
        "colab": {
          "base_uri": "https://localhost:8080/"
        }
      },
      "source": [
        "model1 = LinearRegression()\n",
        "model1.fit(X_train, y_train)\n",
        "ypred=model1.predict(X_test)\n",
        "print(ypred)"
      ],
      "execution_count": 8,
      "outputs": [
        {
          "output_type": "stream",
          "text": [
            "[16.88414476 33.73226078 75.357018   26.79480124 60.49103328]\n"
          ],
          "name": "stdout"
        }
      ]
    },
    {
      "cell_type": "code",
      "metadata": {
        "id": "2VrhHGVCv-Kd",
        "outputId": "4e8c3fe3-7127-42d6-96a0-142edcbd4b77",
        "colab": {
          "base_uri": "https://localhost:8080/",
          "height": 265
        }
      },
      "source": [
        "line = model1.coef_*X+model1.intercept_\n",
        "plt.scatter(X, Y)\n",
        "plt.plot(X, line);"
      ],
      "execution_count": 19,
      "outputs": [
        {
          "output_type": "display_data",
          "data": {
            "image/png": "[encoded data removed]",
            "text/plain": [
              "<Figure size 432x288 with 1 Axes>"
            ]
          },
          "metadata": {
            "tags": [],
            "needs_background": "light"
          }
        }
      ]
    },
    {
      "cell_type": "code",
      "metadata": {
        "id": "JefbGrnofgUJ",
        "outputId": "871c28c7-64e1-4865-d4b4-0fa6edbb2fdf",
        "colab": {
          "base_uri": "https://localhost:8080/"
        }
      },
      "source": [
        "from sklearn import metrics  \n",
        "print(metrics.mean_absolute_error(y_test, ypred)) "
      ],
      "execution_count": 20,
      "outputs": [
        {
          "output_type": "stream",
          "text": [
            "4.183859899002982\n"
          ],
          "name": "stdout"
        }
      ]
    },
    {
      "cell_type": "code",
      "metadata": {
        "id": "jXWq12vCf3wM",
        "outputId": "03fee048-8375-4f88-e07e-08542bf25385",
        "colab": {
          "base_uri": "https://localhost:8080/"
        }
      },
      "source": [
        "result=model1.predict([[9.25]])\n",
        "print(\"Predicted Percentage :\",result[0])"
      ],
      "execution_count": 24,
      "outputs": [
        {
          "output_type": "stream",
          "text": [
            "Predicted Percentage : 93.69173248737539\n"
          ],
          "name": "stdout"
        }
      ]
    }
  ]
}